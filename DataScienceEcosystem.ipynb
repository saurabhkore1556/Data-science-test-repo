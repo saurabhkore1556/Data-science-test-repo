{
 "cells": [
  {
   "cell_type": "markdown",
   "id": "757c7d80-9dfe-4153-8189-cdcfbb488c2e",
   "metadata": {},
   "source": [
    "# Data Science Tools and Ecosystem"
   ]
  },
  {
   "cell_type": "markdown",
   "id": "b1d8f227-08e6-4022-af78-9a7a158e303a",
   "metadata": {},
   "source": [
    "## In this notebook, Data Science Tools and Ecosystem are summarized"
   ]
  },
  {
   "cell_type": "markdown",
   "id": "4637074d-5aff-4086-8dbe-dd82d283713b",
   "metadata": {},
   "source": [
    "### Some of the popular languages that Data Scientists use are:\n",
    "1. Python\n",
    "2. R Programming\n",
    "3. Scala programming"
   ]
  },
  {
   "cell_type": "markdown",
   "id": "42859cf7-632b-4ffc-a61c-aa717c41f832",
   "metadata": {},
   "source": [
    "#### Some of the commonly used libraries used by Data Scientists include:\n",
    "1. numpy\n",
    "2. pandas\n",
    "3. matplotlib\n",
    "4. scikitlearn\n"
   ]
  },
  {
   "cell_type": "markdown",
   "id": "a1e6b2d8-ea31-4370-814e-ba2acc1c52eb",
   "metadata": {},
   "source": [
    "| Data Science Tools       |\n",
    "|--------------------------|\n",
    "| Jupyter Notebook         |\n",
    "| RStudio                  |\n",
    "| Apache Zeppelin          |\n"
   ]
  },
  {
   "cell_type": "markdown",
   "id": "ffd985bf-9238-4729-aac7-f719d95b09f0",
   "metadata": {},
   "source": [
    "### Below are a few examples of evaluating arithmetic expressions in Python\n"
   ]
  },
  {
   "cell_type": "code",
   "execution_count": 1,
   "id": "9c9425d7-d379-48b5-a077-f4832d972e2b",
   "metadata": {},
   "outputs": [
    {
     "data": {
      "text/plain": [
       "17"
      ]
     },
     "execution_count": 1,
     "metadata": {},
     "output_type": "execute_result"
    }
   ],
   "source": [
    "# This a simple arithmetic expression to mutiply then add integers\n",
    "(3*4)+5"
   ]
  },
  {
   "cell_type": "code",
   "execution_count": 2,
   "id": "f9dd844c-9d96-4792-a5ae-9ba7f4b3ee9d",
   "metadata": {},
   "outputs": [
    {
     "data": {
      "text/plain": [
       "3.3333333333333335"
      ]
     },
     "execution_count": 2,
     "metadata": {},
     "output_type": "execute_result"
    }
   ],
   "source": [
    "# This will convert 200 minutes to hours by dividing by 60\n",
    "hours = 200 / 60\n",
    "hours\n"
   ]
  },
  {
   "cell_type": "markdown",
   "id": "3a5ab1f9-44f2-4069-9a7b-2afeb20bbf00",
   "metadata": {},
   "source": [
    "**Objectives:**\n",
    "\n",
    "- List popular languages for Data Science\n",
    "- Explain the basic data structures in Python\n",
    "- Demonstrate data manipulation techniques using Pandas\n",
    "- Perform data visualization with Matplotlib and Seaborn\n",
    "- Understand the fundamentals of Machine Learning\n"
   ]
  },
  {
   "cell_type": "markdown",
   "id": "49b35d3d-95d6-4a48-96db-2f431b409a5f",
   "metadata": {},
   "source": [
    "## Author\n",
    "\n",
    "Aishwarya kore\n"
   ]
  },
  {
   "cell_type": "code",
   "execution_count": null,
   "id": "499c5739-dab2-4f1f-a6cc-cfb8fd735a3b",
   "metadata": {},
   "outputs": [],
   "source": []
  }
 ],
 "metadata": {
  "kernelspec": {
   "display_name": "Python 3 (ipykernel)",
   "language": "python",
   "name": "python3"
  },
  "language_info": {
   "codemirror_mode": {
    "name": "ipython",
    "version": 3
   },
   "file_extension": ".py",
   "mimetype": "text/x-python",
   "name": "python",
   "nbconvert_exporter": "python",
   "pygments_lexer": "ipython3",
   "version": "3.12.4"
  }
 },
 "nbformat": 4,
 "nbformat_minor": 5
}
